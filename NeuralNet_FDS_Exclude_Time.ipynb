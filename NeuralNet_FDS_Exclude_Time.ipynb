{
 "cells": [
  {
   "cell_type": "code",
   "execution_count": 1,
   "metadata": {},
   "outputs": [
    {
     "name": "stdout",
     "output_type": "stream",
     "text": [
      "WARNING:tensorflow:\n",
      "The TensorFlow contrib module will not be included in TensorFlow 2.0.\n",
      "For more information, please see:\n",
      "  * https://github.com/tensorflow/community/blob/master/rfcs/20180907-contrib-sunset.md\n",
      "  * https://github.com/tensorflow/addons\n",
      "  * https://github.com/tensorflow/io (for I/O related ops)\n",
      "If you depend on functionality not listed there, please file an issue.\n",
      "\n"
     ]
    },
    {
     "name": "stderr",
     "output_type": "stream",
     "text": [
      "Using TensorFlow backend.\n"
     ]
    }
   ],
   "source": [
    "import numpy as np\n",
    "import pandas as pd\n",
    "import matplotlib.pyplot as plt\n",
    "import tensorflow as tf\n",
    "import seaborn as sns\n",
    "import tensorflow.contrib.learn as tflearn\n",
    "import tensorflow.contrib.layers as tflayers\n",
    "import tensorflow.contrib.metrics as metrics\n",
    "%matplotlib inline\n",
    "\n",
    "import warnings\n",
    "warnings.filterwarnings(\"ignore\")\n",
    "\n",
    "from sklearn.linear_model import LogisticRegression\n",
    "from sklearn.model_selection import train_test_split\n",
    "from sklearn.metrics import accuracy_score, confusion_matrix, classification_report\n",
    "from imblearn.over_sampling import SVMSMOTE\n",
    "from imblearn.over_sampling import SMOTE\n",
    "from imblearn.under_sampling import NearMiss\n",
    "\n",
    "tf.set_random_seed(1)\n",
    "np.random.seed(1)"
   ]
  },
  {
   "cell_type": "code",
   "execution_count": 2,
   "metadata": {},
   "outputs": [],
   "source": [
    "#Just for drawing.\n",
    "import itertools\n",
    "def plot_confusion_matrix(cm, classes=[0,1],\n",
    "                          normalize=False,\n",
    "                          title='Confusion matrix',\n",
    "                          cmap=plt.cm.Blues):\n",
    "    \"\"\"\n",
    "    This function prints and plots the confusion matrix.\n",
    "    Normalization can be applied by setting `normalize=True`.\n",
    "    \"\"\"\n",
    "    plt.imshow(cm, interpolation='nearest', cmap=cmap)\n",
    "    plt.title(title)\n",
    "    plt.colorbar()\n",
    "    tick_marks = np.arange(len(classes))\n",
    "    plt.xticks(tick_marks, classes, rotation=0)\n",
    "    plt.yticks(tick_marks, classes)\n",
    "\n",
    "    if normalize:\n",
    "        cm = cm.astype('float') / cm.sum(axis=1)[:, np.newaxis]\n",
    "        #print(\"Normalized confusion matrix\")\n",
    "    else:\n",
    "        1#print('Confusion matrix, without normalization')\n",
    "\n",
    "    #print(cm)\n",
    "\n",
    "    thresh = cm.max() / 2.\n",
    "    for i, j in itertools.product(range(cm.shape[0]), range(cm.shape[1])):\n",
    "        plt.text(j, i, cm[i, j],\n",
    "                 horizontalalignment=\"center\",\n",
    "                 color=\"white\" if cm[i, j] > thresh else \"black\")\n",
    "\n",
    "    plt.tight_layout()\n",
    "    plt.ylabel('True label')\n",
    "    plt.xlabel('Predicted label')"
   ]
  },
  {
   "cell_type": "code",
   "execution_count": 3,
   "metadata": {},
   "outputs": [],
   "source": [
    "#scaling\n",
    "df = pd.read_csv('creditcard.csv')\n",
    "df = df.sample(frac=1).reset_index(drop=True)\n",
    "               \n",
    "from sklearn.preprocessing import StandardScaler, RobustScaler\n",
    "\n",
    "std_scaler = StandardScaler()\n",
    "rob_scaler = RobustScaler()\n",
    "\n",
    "df['scaled_amount'] = rob_scaler.fit_transform(df['Amount'].values.reshape(-1,1))\n",
    "df['scaled_time'] = rob_scaler.fit_transform(df['Time'].values.reshape(-1,1))\n",
    "\n",
    "df.drop(['Time','Amount'], axis=1, inplace=True)\n",
    "\n",
    "scaled_amount = df['scaled_amount']\n",
    "scaled_time = df['scaled_time']\n",
    "\n",
    "df.drop(['scaled_amount', 'scaled_time'], axis=1, inplace=True)\n",
    "df.insert(0, 'scaled_amount', scaled_amount)\n",
    "df.insert(1, 'scaled_time', scaled_time)"
   ]
  },
  {
   "cell_type": "code",
   "execution_count": 4,
   "metadata": {},
   "outputs": [
    {
     "name": "stdout",
     "output_type": "stream",
     "text": [
      "(227846, 29) (227846, 1) (56961, 29) (56961, 1)\n"
     ]
    },
    {
     "data": {
      "text/plain": [
       "394"
      ]
     },
     "execution_count": 4,
     "metadata": {},
     "output_type": "execute_result"
    }
   ],
   "source": [
    "#Original Data => Original test & Original Train using Striatified for saving data structure\n",
    "from sklearn.model_selection import train_test_split\n",
    "from sklearn.model_selection import StratifiedShuffleSplit\n",
    "from sklearn.model_selection import KFold, StratifiedKFold\n",
    "\n",
    "x = df.drop(['Class','scaled_time'], axis=1) #better performace... \n",
    "y = df['Class']\n",
    "\n",
    "skf = StratifiedKFold(n_splits=5, random_state=None, shuffle=False)\n",
    "\n",
    "for train_index, test_index in skf.split(x, y):\n",
    "    x_train, x_test = x.iloc[train_index], x.iloc[test_index]\n",
    "    y_train, y_test = y.iloc[train_index], y.iloc[test_index]\n",
    "\n",
    "x_train = x_train.values\n",
    "x_test = x_test.values\n",
    "y_train = y_train.values\n",
    "y_test = y_test.values\n",
    "\n",
    "y_train = y_train.reshape(-1,1)\n",
    "y_test = y_test.reshape(-1,1)\n",
    "\n",
    "print(x_train.shape, y_train.shape, x_test.shape, y_test.shape)\n",
    "np.sum(y_train)"
   ]
  },
  {
   "cell_type": "markdown",
   "metadata": {},
   "source": [
    "from sklearn.metrics import mean_squared_error\n",
    "\n",
    "epochs = 4000\n",
    "lr = 1e-3\n",
    "hidden_layers1 = 30\n",
    "hidden_layers2 = 20\n",
    "\n",
    "cost_history = np.empty(shape=[1],dtype=float)\n",
    "\n",
    "#model\n",
    "X = tf.placeholder(tf.float32,(None,30))\n",
    "Y = tf.placeholder(tf.float32,(None,1))\n",
    "is_training = tf.Variable(True, dtype=tf.bool)\n",
    "initializer = tf.keras.initializers.glorot_normal(seed=None)\n",
    "\n",
    "h0 = tf.layers.dense(X,hidden_layers1, activation = tf.nn.elu, kernel_initializer = initializer, use_bias=True,\n",
    "                     bias_initializer = tf.ones_initializer())\n",
    "dropout0 = tf.layers.dropout(h0, rate=0.6)\n",
    "\n",
    "h1 = tf.layers.dense(dropout0, hidden_layers2, activation = tf.nn.elu,kernel_initializer=initializer, \n",
    "                     use_bias=True, bias_initializer = tf.ones_initializer())\n",
    "dropout1 = tf.layers.dropout(h1, rate=0.5)\n",
    "h2 = tf.layers.dense(dropout1, 1, activation=None)\n",
    "\n",
    "cross_entropy = tf.nn.sigmoid_cross_entropy_with_logits(labels=Y, logits=h2) #try weight\n",
    "cost = tf.reduce_mean(cross_entropy)\n",
    "\n",
    "optimizer = tf.train.AdamOptimizer(learning_rate=lr).minimize(cost)\n",
    "#optimizer = tf.train.GradientDescentOptimizer(learning_rate=lr).minimize(cost)\n",
    "#optimizer=tf.train.ProximalGradientDescentOptimizer(learning_rate=lr).minimize(cost)\n",
    "#optimizer=tf.train.RMSPropOptimizer(learning_rate=lr).minimize(cost)\n",
    "predicted = tf.nn.sigmoid(h2)\n",
    "correct_pred = tf.equal(tf.round(predicted),Y)\n",
    "accuracy = tf.reduce_mean(tf.cast(correct_pred,tf.float32))"
   ]
  },
  {
   "cell_type": "code",
   "execution_count": 5,
   "metadata": {},
   "outputs": [
    {
     "name": "stdout",
     "output_type": "stream",
     "text": [
      "WARNING:tensorflow:From <ipython-input-5-761e14078a72>:17: dense (from tensorflow.python.layers.core) is deprecated and will be removed in a future version.\n",
      "Instructions for updating:\n",
      "Use keras.layers.Dense instead.\n",
      "WARNING:tensorflow:From C:\\Users\\soulmate0313\\Anaconda3\\lib\\site-packages\\tensorflow_core\\python\\layers\\core.py:187: Layer.apply (from tensorflow.python.keras.engine.base_layer) is deprecated and will be removed in a future version.\n",
      "Instructions for updating:\n",
      "Please use `layer.__call__` method instead.\n",
      "WARNING:tensorflow:From <ipython-input-5-761e14078a72>:18: dropout (from tensorflow.python.layers.core) is deprecated and will be removed in a future version.\n",
      "Instructions for updating:\n",
      "Use keras.layers.dropout instead.\n",
      "WARNING:tensorflow:From C:\\Users\\soulmate0313\\Anaconda3\\lib\\site-packages\\tensorflow_core\\python\\ops\\nn_impl.py:183: where (from tensorflow.python.ops.array_ops) is deprecated and will be removed in a future version.\n",
      "Instructions for updating:\n",
      "Use tf.where in 2.0, which has the same broadcast rule as np.where\n"
     ]
    }
   ],
   "source": [
    "from sklearn.metrics import mean_squared_error\n",
    "\n",
    "epochs = 2000\n",
    "lr = 1e-3\n",
    "hidden_layers1 = 30\n",
    "hidden_layers2 = 20\n",
    "\n",
    "cost_history = np.empty(shape=[1],dtype=float)\n",
    "\n",
    "#model\n",
    "X = tf.placeholder(tf.float32,(None,29))\n",
    "Y = tf.placeholder(tf.float32,(None,1))\n",
    "is_training = tf.Variable(True, dtype=tf.bool)\n",
    "initializer = tf.keras.initializers.glorot_normal(seed=None)\n",
    "\n",
    "h0 = tf.layers.dense(X,hidden_layers1, activation = tf.nn.leaky_relu, kernel_initializer = initializer, use_bias=True,\n",
    "                     bias_initializer = tf.ones_initializer())\n",
    "dropout0 = tf.layers.dropout(h0, rate=0.6)\n",
    "\n",
    "h1 = tf.layers.dense(dropout0, hidden_layers2, activation = tf.nn.leaky_relu,kernel_initializer=initializer, \n",
    "                     use_bias=True, bias_initializer = tf.ones_initializer())\n",
    "dropout1 = tf.layers.dropout(h1, rate=0.5)\n",
    "h2 = tf.layers.dense(dropout1, 1, activation=None)\n",
    "\n",
    "cross_entropy = tf.nn.sigmoid_cross_entropy_with_logits(labels=Y, logits=h2) #try weight\n",
    "cost = tf.reduce_mean(cross_entropy)\n",
    "\n",
    "optimizer = tf.train.AdamOptimizer(learning_rate=lr).minimize(cost)\n",
    "#optimizer = tf.train.GradientDescentOptimizer(learning_rate=lr).minimize(cost)\n",
    "#optimizer=tf.train.ProximalGradientDescentOptimizer(learning_rate=lr).minimize(cost)\n",
    "#optimizer=tf.train.RMSPropOptimizer(learning_rate=lr).minimize(cost)\n",
    "predicted = tf.nn.sigmoid(h2)\n",
    "correct_pred = tf.equal(tf.round(predicted),Y)\n",
    "accuracy = tf.reduce_mean(tf.cast(correct_pred,tf.float32))"
   ]
  },
  {
   "cell_type": "code",
   "execution_count": 6,
   "metadata": {
    "scrolled": true
   },
   "outputs": [
    {
     "name": "stdout",
     "output_type": "stream",
     "text": [
      "Step:     0\tLoss: 1.600\tAcc: 5.77%\n",
      "Step:   100\tLoss: 0.007\tAcc: 99.92%\n",
      "Step:   200\tLoss: 0.004\tAcc: 99.94%\n",
      "Step:   300\tLoss: 0.004\tAcc: 99.94%\n",
      "Step:   400\tLoss: 0.003\tAcc: 99.94%\n",
      "Step:   500\tLoss: 0.003\tAcc: 99.95%\n",
      "Step:   600\tLoss: 0.003\tAcc: 99.95%\n",
      "Step:   700\tLoss: 0.003\tAcc: 99.95%\n",
      "Step:   800\tLoss: 0.003\tAcc: 99.95%\n",
      "Step:   900\tLoss: 0.003\tAcc: 99.95%\n",
      "Step:  1000\tLoss: 0.003\tAcc: 99.95%\n",
      "Step:  1100\tLoss: 0.002\tAcc: 99.95%\n",
      "Step:  1200\tLoss: 0.002\tAcc: 99.95%\n",
      "Step:  1300\tLoss: 0.002\tAcc: 99.95%\n",
      "Step:  1400\tLoss: 0.002\tAcc: 99.95%\n",
      "Step:  1500\tLoss: 0.002\tAcc: 99.95%\n",
      "Step:  1600\tLoss: 0.002\tAcc: 99.96%\n",
      "Step:  1700\tLoss: 0.002\tAcc: 99.96%\n",
      "Step:  1800\tLoss: 0.002\tAcc: 99.96%\n",
      "Step:  1900\tLoss: 0.002\tAcc: 99.96%\n",
      "Step:  2000\tLoss: 0.002\tAcc: 99.96%\n",
      "              precision    recall  f1-score   support\n",
      "\n",
      "           0       1.00      1.00      1.00     56863\n",
      "           1       0.90      0.79      0.84        98\n",
      "\n",
      "    accuracy                           1.00     56961\n",
      "   macro avg       0.95      0.89      0.92     56961\n",
      "weighted avg       1.00      1.00      1.00     56961\n",
      "\n",
      "Accuracy 0.9994733238531627\n",
      "[[56854     9]\n",
      " [   21    77]]\n"
     ]
    },
    {
     "data": {
      "image/png": "[encoded data removed]",
      "text/plain": [
       "<Figure size 432x288 with 2 Axes>"
      ]
     },
     "metadata": {},
     "output_type": "display_data"
    },
    {
     "data": {
      "text/plain": [
       "<Figure size 360x360 with 0 Axes>"
      ]
     },
     "metadata": {},
     "output_type": "display_data"
    }
   ],
   "source": [
    "#session\n",
    "with tf.Session() as sess:\n",
    "    sess.run(tf.global_variables_initializer())\n",
    "    for step in range(epochs+1):\n",
    "        sess.run(optimizer,feed_dict={X: x_train,Y: y_train})\n",
    "        loss, _,acc=sess.run([cost,optimizer,accuracy],feed_dict={X: x_train, Y: y_train})\n",
    "        cost_history=np.append(cost_history,acc)\n",
    "        if step % 100 == 0:\n",
    "            print(\"Step: {:5}\\tLoss: {:.3f}\\tAcc: {:.2%}\".format(step,loss,acc))\n",
    "    test_predict_result=sess.run(tf.cast(tf.round(predicted),tf.int32),feed_dict={X:x_test})\n",
    "print(classification_report(y_test,test_predict_result))\n",
    "print(\"Accuracy\",(accuracy_score(y_test,test_predict_result)))\n",
    "cm=confusion_matrix(y_test,test_predict_result)\n",
    "print(cm)\n",
    "\n",
    "with sns.axes_style(\"white\"):\n",
    "    plot_confusion_matrix(cm)\n",
    "plt.figure(figsize=(5,5))\n",
    "plt.show()"
   ]
  },
  {
   "cell_type": "code",
   "execution_count": 7,
   "metadata": {},
   "outputs": [
    {
     "data": {
      "text/plain": [
       "((788, 29), (788, 1))"
      ]
     },
     "execution_count": 7,
     "metadata": {},
     "output_type": "execute_result"
    }
   ],
   "source": [
    "##UnderSampling\n",
    "nm = NearMiss()\n",
    "x_train_u, y_train_u = nm.fit_sample(x_train, y_train)\n",
    "y_train_u = y_train_u.reshape(-1,1)\n",
    "x_train_u.shape, y_train_u.shape"
   ]
  },
  {
   "cell_type": "code",
   "execution_count": 8,
   "metadata": {},
   "outputs": [
    {
     "name": "stdout",
     "output_type": "stream",
     "text": [
      "Step:     0\tLoss: 0.675\tAcc: 59.26%\n",
      "Step:   100\tLoss: 0.111\tAcc: 96.95%\n",
      "Step:   200\tLoss: 0.088\tAcc: 97.46%\n",
      "Step:   300\tLoss: 0.068\tAcc: 98.10%\n",
      "Step:   400\tLoss: 0.052\tAcc: 98.48%\n",
      "Step:   500\tLoss: 0.037\tAcc: 98.86%\n",
      "Step:   600\tLoss: 0.024\tAcc: 99.11%\n",
      "Step:   700\tLoss: 0.015\tAcc: 99.49%\n",
      "Step:   800\tLoss: 0.010\tAcc: 99.87%\n",
      "Step:   900\tLoss: 0.008\tAcc: 99.87%\n",
      "Step:  1000\tLoss: 0.006\tAcc: 99.87%\n",
      "Step:  1100\tLoss: 0.005\tAcc: 99.87%\n",
      "Step:  1200\tLoss: 0.004\tAcc: 99.87%\n",
      "Step:  1300\tLoss: 0.003\tAcc: 99.87%\n",
      "Step:  1400\tLoss: 0.003\tAcc: 99.87%\n",
      "Step:  1500\tLoss: 0.003\tAcc: 99.87%\n",
      "Step:  1600\tLoss: 0.002\tAcc: 99.87%\n",
      "Step:  1700\tLoss: 0.002\tAcc: 99.87%\n",
      "Step:  1800\tLoss: 0.002\tAcc: 100.00%\n",
      "Step:  1900\tLoss: 0.002\tAcc: 100.00%\n",
      "Step:  2000\tLoss: 0.001\tAcc: 100.00%\n",
      "              precision    recall  f1-score   support\n",
      "\n",
      "           0       1.00      0.39      0.56     56863\n",
      "           1       0.00      0.94      0.01        98\n",
      "\n",
      "    accuracy                           0.39     56961\n",
      "   macro avg       0.50      0.67      0.28     56961\n",
      "weighted avg       1.00      0.39      0.56     56961\n",
      "\n",
      "Accuracy 0.3926721792103369\n",
      "[[22275 34588]\n",
      " [    6    92]]\n"
     ]
    },
    {
     "data": {
      "image/png": "[encoded data removed]",
      "text/plain": [
       "<Figure size 432x288 with 2 Axes>"
      ]
     },
     "metadata": {},
     "output_type": "display_data"
    },
    {
     "data": {
      "text/plain": [
       "<Figure size 360x360 with 0 Axes>"
      ]
     },
     "metadata": {},
     "output_type": "display_data"
    }
   ],
   "source": [
    "#session\n",
    "with tf.Session() as sess:\n",
    "    sess.run(tf.global_variables_initializer())\n",
    "    for step in range(epochs+1):\n",
    "        sess.run(optimizer,feed_dict={X: x_train_u,Y: y_train_u})\n",
    "        loss, _,acc=sess.run([cost,optimizer,accuracy],feed_dict={X: x_train_u, Y: y_train_u})\n",
    "        cost_history=np.append(cost_history,acc)\n",
    "        if step % 100 == 0:\n",
    "            print(\"Step: {:5}\\tLoss: {:.3f}\\tAcc: {:.2%}\".format(step,loss,acc))\n",
    "    test_predict_result=sess.run(tf.cast(tf.round(predicted),tf.int32),feed_dict={X:x_test})\n",
    "print(classification_report(y_test,test_predict_result))\n",
    "print(\"Accuracy\",(accuracy_score(y_test,test_predict_result)))\n",
    "cm=confusion_matrix(y_test,test_predict_result)\n",
    "print(cm)\n",
    "\n",
    "with sns.axes_style(\"white\"):\n",
    "    plot_confusion_matrix(cm)\n",
    "plt.figure(figsize=(5,5))\n",
    "plt.show()"
   ]
  },
  {
   "cell_type": "code",
   "execution_count": 9,
   "metadata": {},
   "outputs": [
    {
     "data": {
      "text/plain": [
       "((454904, 29), (454904, 1))"
      ]
     },
     "execution_count": 9,
     "metadata": {},
     "output_type": "execute_result"
    }
   ],
   "source": [
    "##OverSampling\n",
    "ss = SVMSMOTE(sampling_strategy='minority')\n",
    "x_train_o, y_train_o = ss.fit_sample(x_train, y_train)\n",
    "y_train_o = y_train_o.reshape(-1,1)\n",
    "x_train_o.shape, y_train_o.shape"
   ]
  },
  {
   "cell_type": "code",
   "execution_count": 10,
   "metadata": {},
   "outputs": [
    {
     "name": "stdout",
     "output_type": "stream",
     "text": [
      "Step:     0\tLoss: 0.878\tAcc: 51.02%\n",
      "Step:   100\tLoss: 0.032\tAcc: 99.00%\n",
      "Step:   200\tLoss: 0.022\tAcc: 99.31%\n",
      "Step:   300\tLoss: 0.018\tAcc: 99.43%\n",
      "Step:   400\tLoss: 0.015\tAcc: 99.53%\n",
      "Step:   500\tLoss: 0.013\tAcc: 99.63%\n",
      "Step:   600\tLoss: 0.011\tAcc: 99.74%\n",
      "Step:   700\tLoss: 0.009\tAcc: 99.80%\n",
      "Step:   800\tLoss: 0.007\tAcc: 99.85%\n",
      "Step:   900\tLoss: 0.006\tAcc: 99.88%\n",
      "Step:  1000\tLoss: 0.006\tAcc: 99.90%\n",
      "Step:  1100\tLoss: 0.005\tAcc: 99.92%\n",
      "Step:  1200\tLoss: 0.004\tAcc: 99.93%\n",
      "Step:  1300\tLoss: 0.004\tAcc: 99.94%\n",
      "Step:  1400\tLoss: 0.004\tAcc: 99.95%\n",
      "Step:  1500\tLoss: 0.003\tAcc: 99.95%\n",
      "Step:  1600\tLoss: 0.003\tAcc: 99.95%\n",
      "Step:  1700\tLoss: 0.003\tAcc: 99.96%\n",
      "Step:  1800\tLoss: 0.002\tAcc: 99.96%\n",
      "Step:  1900\tLoss: 0.002\tAcc: 99.96%\n",
      "Step:  2000\tLoss: 0.002\tAcc: 99.97%\n",
      "              precision    recall  f1-score   support\n",
      "\n",
      "           0       1.00      1.00      1.00     56863\n",
      "           1       0.63      0.87      0.73        98\n",
      "\n",
      "    accuracy                           1.00     56961\n",
      "   macro avg       0.82      0.93      0.87     56961\n",
      "weighted avg       1.00      1.00      1.00     56961\n",
      "\n",
      "Accuracy 0.9989115359632029\n",
      "[[56814    49]\n",
      " [   13    85]]\n"
     ]
    },
    {
     "data": {
      "image/png": "[encoded data removed]",
      "text/plain": [
       "<Figure size 432x288 with 2 Axes>"
      ]
     },
     "metadata": {},
     "output_type": "display_data"
    },
    {
     "data": {
      "text/plain": [
       "<Figure size 360x360 with 0 Axes>"
      ]
     },
     "metadata": {},
     "output_type": "display_data"
    }
   ],
   "source": [
    "#session\n",
    "with tf.Session() as sess:\n",
    "    sess.run(tf.global_variables_initializer())\n",
    "    for step in range(epochs+1):\n",
    "        sess.run(optimizer,feed_dict={X: x_train_o,Y: y_train_o})\n",
    "        loss, _,acc=sess.run([cost,optimizer,accuracy],feed_dict={X: x_train_o, Y: y_train_o})\n",
    "        cost_history=np.append(cost_history,acc)\n",
    "        if step % 100 == 0:\n",
    "            print(\"Step: {:5}\\tLoss: {:.3f}\\tAcc: {:.2%}\".format(step,loss,acc))\n",
    "    test_predict_result=sess.run(tf.cast(tf.round(predicted),tf.int32),feed_dict={X:x_test})\n",
    "print(classification_report(y_test,test_predict_result))\n",
    "print(\"Accuracy\",(accuracy_score(y_test,test_predict_result)))\n",
    "cm=confusion_matrix(y_test,test_predict_result)\n",
    "print(cm)\n",
    "\n",
    "with sns.axes_style(\"white\"):\n",
    "    plot_confusion_matrix(cm)\n",
    "plt.figure(figsize=(5,5))\n",
    "plt.show()"
   ]
  }
 ],
 "metadata": {
  "kernelspec": {
   "display_name": "Python 3",
   "language": "python",
   "name": "python3"
  },
  "language_info": {
   "codemirror_mode": {
    "name": "ipython",
    "version": 3
   },
   "file_extension": ".py",
   "mimetype": "text/x-python",
   "name": "python",
   "nbconvert_exporter": "python",
   "pygments_lexer": "ipython3",
   "version": "3.7.6"
  }
 },
 "nbformat": 4,
 "nbformat_minor": 4
}
